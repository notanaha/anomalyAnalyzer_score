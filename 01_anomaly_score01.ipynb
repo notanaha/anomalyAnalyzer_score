{
 "cells": [
  {
   "cell_type": "code",
   "execution_count": null,
   "metadata": {},
   "outputs": [],
   "source": [
    "import os\n",
    "import openai\n",
    "from DataAnalyzer import DataAnalyzer\n",
    "\n",
    "from dotenv import load_dotenv\n",
    "load_dotenv(\".env\")"
   ]
  },
  {
   "cell_type": "markdown",
   "metadata": {},
   "source": [
    "### SET VARIABLES"
   ]
  },
  {
   "cell_type": "code",
   "execution_count": null,
   "metadata": {},
   "outputs": [],
   "source": [
    "aoai_endpoint = os.environ[\"AZURE_OPENAI_ENDPOINT\"]\n",
    "aoai_api_key = os.environ[\"AZURE_OPENAI_API_KEY\"]\n",
    "api_version = os.environ[\"AZURE_OPENAI_API_VERSION\"]\n",
    "\n",
    "aoai_client = openai.AzureOpenAI( \n",
    "    azure_endpoint=aoai_endpoint,\n",
    "    api_key=aoai_api_key,\n",
    "    api_version= api_version\n",
    ")\n",
    "    \n",
    "chat_model: str = os.environ[\"AZURE_OPENAI_CHAT_MODEL\"]"
   ]
  },
  {
   "cell_type": "code",
   "execution_count": null,
   "metadata": {},
   "outputs": [],
   "source": [
    "analyzer = DataAnalyzer(aoai_client, chat_model)\n",
    "tools = DataAnalyzer.TOOLS"
   ]
  },
  {
   "cell_type": "markdown",
   "metadata": {},
   "source": [
    "### SET MESSAGES"
   ]
  },
  {
   "cell_type": "code",
   "execution_count": null,
   "metadata": {},
   "outputs": [],
   "source": [
    "file_name = \"./data/anomaly_score_02.csv\"\n",
    "\n",
    "with open(\"./user_promp_template.txt\", \"r\", encoding = 'utf-8') as file:\n",
    "    developer_message = file.read()\n",
    "    developer_message = developer_message.format(file_name)\n",
    "with open(file_name, \"r\", encoding = 'utf-8-sig') as csvfile:\n",
    "    developer_data = csvfile.read()\n",
    "\n",
    "user_context = \"\"\"\n",
    "    The data indicates anomaly in audio signal as time series and should be all zero for normal state. \n",
    "    The left-most column is a time column. Each column shows different types of anomaly. \n",
    "    The column \\\"test-data\\\" belongs to on of the type. Which type does it fall into?  \n",
    "    \"\"\"\n",
    "\n",
    "messages = []\n",
    "messages.append({\"role\": \"developer\",\"content\": developer_message})\n",
    "messages.append({\"role\": \"developer\",\"content\": developer_data})\n",
    "messages.append({\"role\": \"user\", \"content\": user_context})"
   ]
  },
  {
   "cell_type": "markdown",
   "metadata": {},
   "source": [
    "<h5> WITH FUNCTION CALLING </h5>"
   ]
  },
  {
   "cell_type": "code",
   "execution_count": null,
   "metadata": {},
   "outputs": [],
   "source": [
    "response_message, messages = analyzer.call_o1_model(messages, tools=tools, tool_choice='auto')\n",
    "print(response_message.content)"
   ]
  },
  {
   "cell_type": "markdown",
   "metadata": {},
   "source": [
    "### Follow up question"
   ]
  },
  {
   "cell_type": "code",
   "execution_count": null,
   "metadata": {},
   "outputs": [],
   "source": [
    "followup_question = \"他の可能性を教えてください。符号は絶対値も考慮してください。\"\n",
    "messages.append({\"role\": \"user\", \"content\": followup_question})\n",
    "\n",
    "response_message, messages = analyzer.call_o1_model(messages)\n",
    "print(response_message.content)"
   ]
  }
 ],
 "metadata": {
  "kernelspec": {
   "display_name": "py12",
   "language": "python",
   "name": "python3"
  },
  "language_info": {
   "codemirror_mode": {
    "name": "ipython",
    "version": 3
   },
   "file_extension": ".py",
   "mimetype": "text/x-python",
   "name": "python",
   "nbconvert_exporter": "python",
   "pygments_lexer": "ipython3",
   "version": "3.12.9"
  }
 },
 "nbformat": 4,
 "nbformat_minor": 2
}
