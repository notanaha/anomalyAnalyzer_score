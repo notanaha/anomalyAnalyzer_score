{
 "cells": [
  {
   "cell_type": "code",
   "execution_count": null,
   "metadata": {},
   "outputs": [],
   "source": [
    "import os\n",
    "import openai\n",
    "from DataAnalyzer import DataAnalyzer\n",
    "\n",
    "from dotenv import load_dotenv\n",
    "load_dotenv(\".env\")"
   ]
  },
  {
   "cell_type": "markdown",
   "metadata": {},
   "source": [
    "### SET VARIABLES"
   ]
  },
  {
   "cell_type": "code",
   "execution_count": null,
   "metadata": {},
   "outputs": [],
   "source": [
    "aoai_endpoint = os.environ[\"AZURE_OPENAI_ENDPOINT\"]\n",
    "aoai_api_key = os.environ[\"AZURE_OPENAI_API_KEY\"]\n",
    "api_version = os.environ[\"AZURE_OPENAI_API_VERSION\"]\n",
    "\n",
    "aoai_client = openai.AzureOpenAI( \n",
    "    azure_endpoint=aoai_endpoint,\n",
    "    api_key=aoai_api_key,\n",
    "    api_version= api_version\n",
    ")\n",
    "    \n",
    "chat_model: str = os.environ[\"AZURE_OPENAI_CHAT_MODEL\"]\n",
    "#chat_model: str = \"o3-mini\""
   ]
  },
  {
   "cell_type": "code",
   "execution_count": null,
   "metadata": {},
   "outputs": [],
   "source": [
    "analyzer = DataAnalyzer(aoai_client, chat_model)\n",
    "tools = DataAnalyzer.TOOLS"
   ]
  },
  {
   "cell_type": "markdown",
   "metadata": {},
   "source": [
    "### SET MESSAGES"
   ]
  },
  {
   "cell_type": "code",
   "execution_count": null,
   "metadata": {},
   "outputs": [],
   "source": [
    "import json\n",
    "\n",
    "file_name_1 = \"./data/file1.csv\"\n",
    "file_name_2 = \"./data/file2.csv\"\n",
    "\n",
    "with open(\"./user_promp_template_02.txt\", \"r\", encoding = 'utf-8') as file:\n",
    "    developer_message = file.read()\n",
    "with open(file_name_1, \"r\", encoding = 'utf-8') as file:\n",
    "    developer_data_1 = file.read()\n",
    "with open(file_name_2, \"r\", encoding = 'utf-8') as file:\n",
    "    developer_data_2 = file.read()\n",
    "\n",
    "user_context = \"\"\"\n",
    "    \"test_file\" が 6つのどの \"anomaly type\" に分類されるかを予測してください。\n",
    "    またそう判断した根拠を簡単に説明してください。\n",
    "   \"\"\"\n",
    "\n",
    "messages = []\n",
    "messages.append({\"role\": \"developer\",\"content\": developer_message})\n",
    "messages.append({\"role\": \"developer\",\"content\": \"6 つのファイル全てを提供するにはサイズが大きいため、\\\"test_file\\\" のみ提供します\"})\n",
    "messages.append({\"role\": \"developer\",\"content\": developer_data_2})\n",
    "messages.append({\"role\": \"user\", \"content\": user_context})"
   ]
  },
  {
   "cell_type": "markdown",
   "metadata": {},
   "source": [
    "<h5> CALL o1 </h5>"
   ]
  },
  {
   "cell_type": "code",
   "execution_count": null,
   "metadata": {},
   "outputs": [],
   "source": [
    "response_message, messages = analyzer.call_o1_model(messages, tools=tools, tool_choice='auto')\n",
    "print(response_message.content)"
   ]
  },
  {
   "cell_type": "markdown",
   "metadata": {},
   "source": [
    "### Follow up question"
   ]
  },
  {
   "cell_type": "code",
   "execution_count": null,
   "metadata": {},
   "outputs": [],
   "source": [
    "followup_question = \"よりよい推論をするために、与えられた TOOLS 以外に、どんな関数があれば使ってみたいですか？\"\n",
    "messages.append({\"role\": \"user\", \"content\": followup_question})\n",
    "\n",
    "response_message, messages = analyzer.call_o1_model(messages)\n",
    "print(response_message.content)"
   ]
  }
 ],
 "metadata": {
  "kernelspec": {
   "display_name": "py12",
   "language": "python",
   "name": "python3"
  },
  "language_info": {
   "codemirror_mode": {
    "name": "ipython",
    "version": 3
   },
   "file_extension": ".py",
   "mimetype": "text/x-python",
   "name": "python",
   "nbconvert_exporter": "python",
   "pygments_lexer": "ipython3",
   "version": "3.12.9"
  }
 },
 "nbformat": 4,
 "nbformat_minor": 2
}
