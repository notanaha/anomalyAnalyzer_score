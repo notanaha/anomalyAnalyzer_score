{
 "cells": [
  {
   "cell_type": "code",
   "execution_count": null,
   "metadata": {},
   "outputs": [],
   "source": [
    "import os\n",
    "import openai\n",
    "\n",
    "from dotenv import load_dotenv\n",
    "load_dotenv(\".env\")\n",
    "\n",
    "aoai_endpoint = os.environ[\"AZURE_OPENAI_ENDPOINT_45\"]\n",
    "aoai_api_key = os.environ[\"AZURE_OPENAI_API_KEY_45\"]\n",
    "api_version = os.environ[\"AZURE_OPENAI_API_VERSION\"]\n",
    "chat_model = os.environ[\"AZURE_OPENAI_CHAT_MODEL_45\"]\n",
    "\n",
    "client = openai.AzureOpenAI( \n",
    "    azure_endpoint=aoai_endpoint,\n",
    "    api_key=aoai_api_key,\n",
    "    api_version= api_version\n",
    ")"
   ]
  },
  {
   "cell_type": "code",
   "execution_count": null,
   "metadata": {},
   "outputs": [],
   "source": [
    "def call_gpt_45(messages):\n",
    "    response = client.chat.completions.create(\n",
    "        model=chat_model, \n",
    "        messages=messages,\n",
    "        temperature=0,)\n",
    "    response_message = response.choices[0].message\n",
    "    answer = response_message.content\n",
    "    messages.append(response_message)\n",
    "    return answer, messages\n"
   ]
  },
  {
   "cell_type": "code",
   "execution_count": null,
   "metadata": {},
   "outputs": [],
   "source": [
    "with open(\"./user_promp_template.txt\", \"r\", encoding = 'utf-8') as f:\n",
    "    user_prompt_template = f.read()\n",
    "\n",
    "messages = []\n",
    "content =\"フィボナッチ数列の最初の5つの要素を教えてください。\"\n",
    "messages.append({\"role\": \"user\",\"content\":user_prompt_template})\n",
    "messages.append({\"role\": \"user\",\"content\":content})"
   ]
  },
  {
   "cell_type": "code",
   "execution_count": null,
   "metadata": {},
   "outputs": [],
   "source": [
    "answer, messages = call_gpt_45(messages)\n",
    "print(answer)"
   ]
  },
  {
   "cell_type": "code",
   "execution_count": null,
   "metadata": {},
   "outputs": [],
   "source": [
    "content = \"6番目の要素はなんですか\"\n",
    "messages.append({\"role\": \"user\",\"content\": content})\n",
    "\n",
    "answer, messages = call_gpt_45(messages)\n",
    "print(answer)"
   ]
  }
 ],
 "metadata": {
  "kernelspec": {
   "display_name": "py12",
   "language": "python",
   "name": "python3"
  },
  "language_info": {
   "codemirror_mode": {
    "name": "ipython",
    "version": 3
   },
   "file_extension": ".py",
   "mimetype": "text/x-python",
   "name": "python",
   "nbconvert_exporter": "python",
   "pygments_lexer": "ipython3",
   "version": "3.12.9"
  }
 },
 "nbformat": 4,
 "nbformat_minor": 2
}
